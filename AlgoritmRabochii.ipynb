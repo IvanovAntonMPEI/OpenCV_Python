{
 "cells": [
  {
   "cell_type": "code",
   "execution_count": 4,
   "metadata": {},
   "outputs": [],
   "source": [
    "from PIL import Image, ImageDraw\n",
    "import numpy as np\n",
    "import random\n",
    "from threading import Thread\n",
    "import os\n",
    "\n",
    "import subprocess, sys, base64, imutils, cv2\n",
    "import time\n"
   ]
  },
  {
   "cell_type": "code",
   "execution_count": 5,
   "metadata": {},
   "outputs": [],
   "source": [
    "Name_Good = 'Good_desc.dat'\n",
    "Name_Bad = 'Bad_desc.dat'\n",
    "\n",
    "Folder_Good = 'Good'\n",
    "Folder_Bad = 'Bad'\n",
    "black_name = '.DS_Store'"
   ]
  },
  {
   "cell_type": "code",
   "execution_count": 4,
   "metadata": {},
   "outputs": [
    {
     "ename": "FileNotFoundError",
     "evalue": "[Errno 2] No such file or directory: '2.jpeg'",
     "output_type": "error",
     "traceback": [
      "\u001b[0;31m---------------------------------------------------------------------------\u001b[0m",
      "\u001b[0;31mFileNotFoundError\u001b[0m                         Traceback (most recent call last)",
      "\u001b[0;32m<ipython-input-4-4f6119cffebb>\u001b[0m in \u001b[0;36m<module>\u001b[0;34m()\u001b[0m\n\u001b[0;32m----> 1\u001b[0;31m \u001b[0mimage\u001b[0m \u001b[0;34m=\u001b[0m \u001b[0mImage\u001b[0m\u001b[0;34m.\u001b[0m\u001b[0mopen\u001b[0m\u001b[0;34m(\u001b[0m\u001b[0;34m'2.jpeg'\u001b[0m\u001b[0;34m)\u001b[0m\u001b[0;34m\u001b[0m\u001b[0;34m\u001b[0m\u001b[0m\n\u001b[0m\u001b[1;32m      2\u001b[0m \u001b[0ma\u001b[0m \u001b[0;34m=\u001b[0m \u001b[0;34m[\u001b[0m\u001b[0mint\u001b[0m\u001b[0;34m(\u001b[0m\u001b[0mi\u001b[0m\u001b[0;34m/\u001b[0m\u001b[0;36m10\u001b[0m\u001b[0;34m)\u001b[0m \u001b[0;32mfor\u001b[0m \u001b[0mi\u001b[0m \u001b[0;32min\u001b[0m \u001b[0mimage\u001b[0m\u001b[0;34m.\u001b[0m\u001b[0msize\u001b[0m\u001b[0;34m]\u001b[0m\u001b[0;34m\u001b[0m\u001b[0;34m\u001b[0m\u001b[0m\n\u001b[1;32m      3\u001b[0m \u001b[0mtest_image\u001b[0m \u001b[0;34m=\u001b[0m \u001b[0mimage\u001b[0m\u001b[0;34m.\u001b[0m\u001b[0mresize\u001b[0m\u001b[0;34m(\u001b[0m\u001b[0ma\u001b[0m\u001b[0;34m,\u001b[0m \u001b[0mImage\u001b[0m\u001b[0;34m.\u001b[0m\u001b[0mANTIALIAS\u001b[0m\u001b[0;34m)\u001b[0m\u001b[0;34m\u001b[0m\u001b[0;34m\u001b[0m\u001b[0m\n\u001b[1;32m      4\u001b[0m \u001b[0mname_new_file\u001b[0m \u001b[0;34m=\u001b[0m \u001b[0;34m'vou.png'\u001b[0m\u001b[0;34m\u001b[0m\u001b[0;34m\u001b[0m\u001b[0m\n\u001b[1;32m      5\u001b[0m \u001b[0mtest_image\u001b[0m\u001b[0;34m.\u001b[0m\u001b[0msave\u001b[0m\u001b[0;34m(\u001b[0m\u001b[0mname_new_file\u001b[0m\u001b[0;34m,\u001b[0m \u001b[0moptimize\u001b[0m \u001b[0;34m=\u001b[0m \u001b[0;32mTrue\u001b[0m\u001b[0;34m,\u001b[0m \u001b[0mquality\u001b[0m \u001b[0;34m=\u001b[0m \u001b[0;36m95\u001b[0m\u001b[0;34m)\u001b[0m\u001b[0;34m\u001b[0m\u001b[0;34m\u001b[0m\u001b[0m\n",
      "\u001b[0;32m/home/adminivanov/.local/lib/python3.6/site-packages/PIL/Image.py\u001b[0m in \u001b[0;36mopen\u001b[0;34m(fp, mode)\u001b[0m\n\u001b[1;32m   2764\u001b[0m \u001b[0;34m\u001b[0m\u001b[0m\n\u001b[1;32m   2765\u001b[0m     \u001b[0;32mif\u001b[0m \u001b[0mfilename\u001b[0m\u001b[0;34m:\u001b[0m\u001b[0;34m\u001b[0m\u001b[0;34m\u001b[0m\u001b[0m\n\u001b[0;32m-> 2766\u001b[0;31m         \u001b[0mfp\u001b[0m \u001b[0;34m=\u001b[0m \u001b[0mbuiltins\u001b[0m\u001b[0;34m.\u001b[0m\u001b[0mopen\u001b[0m\u001b[0;34m(\u001b[0m\u001b[0mfilename\u001b[0m\u001b[0;34m,\u001b[0m \u001b[0;34m\"rb\"\u001b[0m\u001b[0;34m)\u001b[0m\u001b[0;34m\u001b[0m\u001b[0;34m\u001b[0m\u001b[0m\n\u001b[0m\u001b[1;32m   2767\u001b[0m         \u001b[0mexclusive_fp\u001b[0m \u001b[0;34m=\u001b[0m \u001b[0;32mTrue\u001b[0m\u001b[0;34m\u001b[0m\u001b[0;34m\u001b[0m\u001b[0m\n\u001b[1;32m   2768\u001b[0m \u001b[0;34m\u001b[0m\u001b[0m\n",
      "\u001b[0;31mFileNotFoundError\u001b[0m: [Errno 2] No such file or directory: '2.jpeg'"
     ]
    }
   ],
   "source": [
    "image = Image.open('2.jpeg')\n",
    "a = [int(i/10) for i in image.size]\n",
    "test_image = image.resize(a, Image.ANTIALIAS)\n",
    "name_new_file = 'vou.png'\n",
    "test_image.save(name_new_file, optimize = True, quality = 95)\n",
    "\n",
    "#foo.save(\"path\\\\to\\\\save\\\\image_scaled_opt.jpg\",optimize=True,quality=95)"
   ]
  },
  {
   "cell_type": "code",
   "execution_count": 3,
   "metadata": {},
   "outputs": [
    {
     "ename": "NameError",
     "evalue": "name 'name_new_file' is not defined",
     "output_type": "error",
     "traceback": [
      "\u001b[0;31m---------------------------------------------------------------------------\u001b[0m",
      "\u001b[0;31mNameError\u001b[0m                                 Traceback (most recent call last)",
      "\u001b[0;32m<ipython-input-3-59be0c2864ed>\u001b[0m in \u001b[0;36m<module>\u001b[0;34m()\u001b[0m\n\u001b[0;32m----> 1\u001b[0;31m \u001b[0mimage\u001b[0m \u001b[0;34m=\u001b[0m \u001b[0mImage\u001b[0m\u001b[0;34m.\u001b[0m\u001b[0mopen\u001b[0m\u001b[0;34m(\u001b[0m\u001b[0mname_new_file\u001b[0m\u001b[0;34m)\u001b[0m\u001b[0;34m\u001b[0m\u001b[0;34m\u001b[0m\u001b[0m\n\u001b[0m\u001b[1;32m      2\u001b[0m \u001b[0mpath_save\u001b[0m \u001b[0;34m=\u001b[0m \u001b[0;34m'Good/'\u001b[0m\u001b[0;34m\u001b[0m\u001b[0;34m\u001b[0m\u001b[0m\n\u001b[1;32m      3\u001b[0m \u001b[0;34m\u001b[0m\u001b[0m\n\u001b[1;32m      4\u001b[0m \u001b[0mdraw\u001b[0m \u001b[0;34m=\u001b[0m \u001b[0mImageDraw\u001b[0m\u001b[0;34m.\u001b[0m\u001b[0mDraw\u001b[0m\u001b[0;34m(\u001b[0m\u001b[0mimage\u001b[0m\u001b[0;34m)\u001b[0m\u001b[0;34m\u001b[0m\u001b[0;34m\u001b[0m\u001b[0m\n\u001b[1;32m      5\u001b[0m \u001b[0mwidth\u001b[0m \u001b[0;34m=\u001b[0m \u001b[0mimage\u001b[0m\u001b[0;34m.\u001b[0m\u001b[0msize\u001b[0m\u001b[0;34m[\u001b[0m\u001b[0;36m0\u001b[0m\u001b[0;34m]\u001b[0m\u001b[0;34m\u001b[0m\u001b[0;34m\u001b[0m\u001b[0m\n",
      "\u001b[0;31mNameError\u001b[0m: name 'name_new_file' is not defined"
     ]
    }
   ],
   "source": [
    "image = Image.open(name_new_file)\n",
    "path_save = 'Good/'\n",
    "\n",
    "draw = ImageDraw.Draw(image) \n",
    "width = image.size[0]\n",
    "height = image.size[1] \n",
    "pix = image.load()\n",
    "\n",
    "step = 1\n",
    "size = int(max(height, width)* 2**0.5) + 1\n",
    "last_size = [width, height]\n",
    "\n",
    "color_delete = [[255] * 4, [150] * 4]\n",
    "\n"
   ]
  },
  {
   "cell_type": "code",
   "execution_count": 25,
   "metadata": {},
   "outputs": [],
   "source": [
    "def simple_rotate_value(i, j, phi):\n",
    "    phi = phi * np.pi / 180\n",
    "    x = i * np.cos(phi) + j * np.sin(phi)\n",
    "    y = -i * np.sin(phi) + j * np.cos(phi)\n",
    "    return int(x), int(y)\n",
    "\n",
    "\n",
    "def get_noize():\n",
    "    return tuple([random.randint(0, 255) for i in range(4)])\n",
    "\n",
    "def create_noise(pix, i, j, color = None):\n",
    "    \n",
    "    error = 0\n",
    "    color = color if color else 100\n",
    "    flag = full_delete(pix[i,j], [color]*4)\n",
    "    \n",
    "    if flag:\n",
    "        return get_noize(), flag\n",
    "    else:\n",
    "        return pix[i, j], flag\n",
    "    \n",
    "    \n",
    "def full_delete(pix, color, error = 0):\n",
    "    \n",
    "    f_error = lambda x, color: np.mean([i - j for i,j in zip(x[:-1], color)])    \n",
    "    return f_error(pix, color) > error\n",
    "\n",
    "def delete_color(pix, color_list, error):\n",
    "    # удаление цвета, больше заданного\n",
    "    \n",
    "    if color_list:\n",
    "        if type(color_list) != list:\n",
    "            color_list = [[color_list] * 4]\n",
    "        elif type(color_list[0]) != list:\n",
    "            color_list = [color_list]\n",
    "    else:\n",
    "        color_list = [[255] * 4]\n",
    "\n",
    "    f_error = lambda x, color = [0, 0, 0, 0]: np.mean([abs(i - j) for i,j in zip(x[:-1], color)])    \n",
    "    \n",
    "    flag_error = False\n",
    "    \n",
    "    for i in color_list:\n",
    "        flag_error = abs(f_error(pix, i)) > error\n",
    "        \n",
    "        if flag_error:\n",
    "            break\n",
    "        \n",
    "    #print(pix, f_error(pix), color, flag_error)\n",
    "    return flag_error\n",
    "\n",
    "\n",
    "def rotate_image(image, noise_image, pix, list_point, path_save, phi):\n",
    "    # поворот картинки на заданный градус\n",
    "    \n",
    "    new_image = noise_image.copy()\n",
    "    draw = ImageDraw.Draw(new_image)\n",
    "    \n",
    "    for i in list_point:\n",
    "        x, y = simple_rotate_value(i[0] - new_image.size[0]/2, i[1] - new_image.size[1]/2, phi)\n",
    "        draw.point((size/2 + x, size/2 + y), pix[i[0], i[1]])\n",
    "        \n",
    "    new_image.save(path_save)\n",
    "    \n",
    "def create_noise_image(path_save = None, image = None, size = None):\n",
    "    # создание шумной картинки заданного размера\n",
    "    if image:\n",
    "        new_image = image.copy()\n",
    "    else:\n",
    "        new_image = Image.new('RGBA', (size, size))\n",
    "    \n",
    "    size = new_image.size[0]\n",
    "    draw = ImageDraw.Draw(new_image)\n",
    "    \n",
    "    for i in range(size):\n",
    "        for j in range(size):\n",
    "            draw.point((i, j), get_noize())\n",
    "    \n",
    "    if path_save:\n",
    "        new_image.save(path_save)\n",
    "        \n",
    "    return new_image\n",
    "\n",
    "def change_image(pix, size, last_size, path = None, color_delete = None):\n",
    "    # зашумление картинки\n",
    "    #(\"path:\", path)\n",
    "    \n",
    "    new_image = Image.new('RGBA', (size, size))\n",
    "    new_draw = ImageDraw.Draw(new_image)\n",
    "    \n",
    "    bias = [(size - i)/2 for i in last_size]\n",
    "    list_point = []\n",
    "    \n",
    "    for i in range(size):\n",
    "        for j in range(size):\n",
    "            if abs(i - size/2) < last_size[0]/2 and abs(j - size/2) < last_size[1]/2:\n",
    "                new_pix, flag = create_noise(pix, i - bias[0], j - bias[1], color = color_delete)\n",
    "                new_draw.point((i, j), new_pix)\n",
    "                \n",
    "                if not flag:\n",
    "                    list_point.append((i, j))\n",
    "                \n",
    "            else:\n",
    "                new_draw.point((i, j), get_noize())\n",
    "            \n",
    "    if path:\n",
    "        new_image.save(path)\n",
    "\n",
    "    return new_image, list_point\n",
    "    \n",
    "def create_name(size, number = 1, bias = ' '):\n",
    "    ret = [number, 0, 0, size, size]\n",
    "    ret_str = bias\n",
    "    for i in ret:\n",
    "        ret_str += str(i) + ' '\n",
    "    return ret_str[:-1]\n",
    "\n",
    "\n",
    "def change_value(if_value, else_value, check, flag_work = True):\n",
    "    if flag_work:\n",
    "        ret = if_value if if_value == check else else_value\n",
    "    else:\n",
    "        ret = if_value if if_value != check else else_value\n",
    "    return ret\n",
    "\n",
    "def change_str_to_shell(string):\n",
    "    \n",
    "    list_symbol = [' ', '(', ')']\n",
    "    list_replace = [r'\\ ', r'\\(', r'\\)']\n",
    "    \n",
    "    for i, j in zip(list_symbol, list_replace):\n",
    "        string = string.replace(i, j)\n",
    "    return string\n",
    "\n",
    "def rename_file_folder(path_folder, base_name, new_format):\n",
    "# переименовать все файлы в папке \n",
    "\n",
    "    black_name = ''\n",
    "    for counter, i in enumerate(os.listdir(path_folder)):\n",
    "        if i != black_name:\n",
    "            \n",
    "            new_path = change_str_to_shell(os.path.join(path_folder, base_name) + str(counter) + new_format)\n",
    "            \n",
    "            subprocess.call('mv ' + change_str_to_shell(os.path.join(path_folder, i)) + ' ' + new_path, shell = True)\n",
    "            #print('mv ' + os.path.join(path_folder, i).replace(' ', '\\ ') + ' ' + new_path.replace(' ', '\\ '))\n",
    "            \n",
    "        #fl = open(os.path.join(path_folder, i), 'r')\n",
    "            #txt = fl.read()\n",
    "            #fl.close()\n",
    "\n",
    "            #fl = open(new_path, 'w')\n",
    "            #fl.write(txt)\n",
    "            #fl.close()\n",
    "        \n",
    "def create_description_file(size, number, name_file, name_folder, counter = 1):\n",
    "    # создание файла описания \n",
    "    write_str = name_folder if name_folder[-1] == '/' else name_folder + '/'\n",
    "    \n",
    "    name_format = '.bmp'\n",
    "    \n",
    "    ret_str = ''\n",
    "    \n",
    "    const_list = [counter, 0, 0, size, size]\n",
    "    const_str = ''\n",
    "    black_name = '.DS_Store'\n",
    "    \n",
    "    for i in const_list:\n",
    "        const_str += str(i) + ' '\n",
    "    const_str = const_str[:-1]\n",
    "    \n",
    "    for i in range(number):\n",
    "        if i != black_name:\n",
    "            ret_str += write_str + str(i) + name_format + '  ' + const_str + '\\n'\n",
    "    \n",
    "    fl = open(name_file, 'w')\n",
    "    fl.write(ret_str[:-1])\n",
    "    fl.close()\n",
    "\n",
    "def create_bad_file(name_file, name_folder):\n",
    "    name_format = '.bmp'\n",
    "    black_name = '.DS_Store'\n",
    "    \n",
    "    path_to_folder = os.getcwd()\n",
    "    path_save = os.path.join(path_to_folder, name_folder)\n",
    "    \n",
    "    ret_str = ''\n",
    "\n",
    "    for i in os.listdir(path_save):\n",
    "        if i != black_name:\n",
    "            ret_str += os.path.join(path_save, i) + '\\n'\n",
    "    \n",
    "    fl = open(name_file, 'w')\n",
    "    fl.write(ret_str[:-1])\n",
    "    fl.close()"
   ]
  },
  {
   "cell_type": "code",
   "execution_count": 6,
   "metadata": {},
   "outputs": [
    {
     "name": "stdout",
     "output_type": "stream",
     "text": [
      "path: test.bmp\n",
      "1.5949852466583252\n",
      "0.739659309387207\n"
     ]
    }
   ],
   "source": [
    "Test = True\n",
    "\n",
    "format_file = '.bmp'\n",
    "\n",
    "number_thread = 6\n",
    "\n",
    "#Time_start = time.time()\n",
    "# зашумление исходного файла\n",
    "\n",
    "image_noise, list_image = change_image(pix, size, last_size, 'test' + format_file, color_delete = 85)\n",
    "\n",
    "\n",
    "#Time_1 = time.time()\n",
    "#print(Time_1 - Time_start)\n",
    "# создание пустого файла\n",
    "image_full_noise = create_noise_image(image = image_noise, path_save = 'noise' + format_file)\n",
    "#print(time.time() - Time_1)"
   ]
  },
  {
   "cell_type": "code",
   "execution_count": 26,
   "metadata": {},
   "outputs": [],
   "source": [
    "path_folder = 'Good'\n",
    "\n",
    "for i in os.listdir(path_folder):\n",
    "    if i != black_name:\n",
    "        path_now = os.path.join(path_folder, i)\n",
    "        image_now = Image.open(path_now)\n",
    "        #pix = image_now.load()\n",
    "        image_noise, list_image = change_image(image_now.load(), max(image_now.size), image_now.size,\n",
    "                                               path = path_now, color_delete = 85)\n"
   ]
  },
  {
   "cell_type": "code",
   "execution_count": 1,
   "metadata": {},
   "outputs": [
    {
     "name": "stdout",
     "output_type": "stream",
     "text": [
      " AlgoritmRabochii.ipynb   Good_desc.dat            Rotate_Image.ipynb\r\n",
      " \u001b[0m\u001b[01;34mBad\u001b[0m/                     \u001b[01;34mhaarcascade\u001b[0m/             samples.vec\r\n",
      " Bad_desc.dat             \u001b[01;34mImage\u001b[0m/                   \u001b[01;35mvou.png\u001b[0m\r\n",
      " from11.vec               \u001b[01;34mnew\u001b[0m/                    \u001b[01;34m'обученные каскады'\u001b[0m\u001b[K/\r\n",
      " from2.vec                o11.vec\r\n",
      " \u001b[01;34mGood\u001b[0m/                    RazkadrovkaVideo.ipynb\r\n"
     ]
    }
   ],
   "source": [
    "ls"
   ]
  },
  {
   "cell_type": "code",
   "execution_count": 12,
   "metadata": {},
   "outputs": [
    {
     "name": "stdout",
     "output_type": "stream",
     "text": [
      "-63.46161866188049\n"
     ]
    }
   ],
   "source": [
    "sizepix_new = image_noise.load()\n",
    "error_phi = 5\n",
    "number_image = 400\n",
    "# создание (error_phi * 2 / step) картинок с поворотом\n",
    "list_phi = np.linspace(0, error_phi, number_image)\n",
    "\n",
    "Time_now = time.time()\n",
    "for counter, i in enumerate(list_phi):\n",
    "    path = path_save + str(counter) + format_file\n",
    "    rotate_image(image_noise, image_full_noise, pix_new, list_image, path, i)\n",
    "print(Time_now - time.time())"
   ]
  },
  {
   "cell_type": "code",
   "execution_count": 13,
   "metadata": {},
   "outputs": [],
   "source": [
    "create_description_file(image_noise.size[0], len(list_phi), name_file = Name_Good, name_folder = Folder_Good)\n",
    "create_bad_file(name_file = Name_Bad, name_folder = Folder_Bad)"
   ]
  },
  {
   "cell_type": "code",
   "execution_count": 14,
   "metadata": {},
   "outputs": [],
   "source": [
    "rename_file_folder(Folder_Bad, '', '.bmp')"
   ]
  },
  {
   "cell_type": "code",
   "execution_count": 1,
   "metadata": {},
   "outputs": [],
   "source": [
    "\n",
    "def videoStreamer(path, path_save, width=240, height=240, skip=None, name = '', format = '.bmp', number_image = 147, flag_image = True):\n",
    "    # Загружаем видео.\n",
    "    stream = cv2.VideoCapture(path)\n",
    "    #print(len(stream))\n",
    "\n",
    "    success, image = stream.read()\n",
    "    \n",
    "    #frames = int(stream.get(cv2.CAP_PROP_FRAME_COUNT))\n",
    "    #FPS = stream.get(cv2.CAP_PROP_FPS)\n",
    "    #if skip == None:\n",
    "    #    skip = int(40)\n",
    "    if flag_image:\n",
    "        print(stream.get(7))\n",
    "    else:\n",
    "        name_dir = path_save.split('/')[-1]\n",
    "        subprocess.call('rm -rf ' + change_str_to_shell(path_save), shell = True)\n",
    "        subprocess.call('mkdir ' + change_str_to_shell(path_save), shell = True)\n",
    "        print(name_dir)\n",
    "        skip = skip if skip else (stream.get(7) / number_image)\n",
    "        list_skip = list(map(int, np.linspace(0, stream.get(7), number_image)))\n",
    "        \n",
    "        print(stream.get(7), skip)\n",
    "        counter = 0\n",
    "        counter_image = 0\n",
    "        print(path_save)\n",
    "        while success:\n",
    "            \n",
    "          # Пропускаем несколько кадров, и смотрим один из них.\n",
    "            #print(counter)\n",
    "          # Меняем размер изображения и отсылаем его в stdout в формате JSON\n",
    "            #frame = imutils.resize(frame, width=600, height=800)\n",
    "            success, image = stream.read()\n",
    "            if (counter) in list_skip and success:\n",
    "                #print(list_skip[list_skip.index(counter)], counter)\n",
    "                image = imutils.resize(image, width=width, height=height)\n",
    "                cv2.imwrite(path_save + '/' + name +  str(counter_image) + format, image)\n",
    "                #new_image = image.resize((width, height), Image.ANTIALIAS)\n",
    "                #new_image.save(path_save + str(counter)+ '.png', optimize = True, quality = 95)\n",
    "                counter_image += 1\n",
    "            #print(counter)\n",
    "            counter += 1\n",
    "        print(counter_image)"
   ]
  },
  {
   "cell_type": "code",
   "execution_count": 14,
   "metadata": {},
   "outputs": [],
   "source": [
    "create_description_file(40, 799, name_file = os.path.join(path_save, Name_Good), name_folder = Folder_Good)"
   ]
  },
  {
   "cell_type": "code",
   "execution_count": 7,
   "metadata": {},
   "outputs": [],
   "source": [
    "path_save = '/home/adminivanov/Рабочий стол/Open_CV/Version_2'"
   ]
  },
  {
   "cell_type": "code",
   "execution_count": 51,
   "metadata": {},
   "outputs": [
    {
     "data": {
      "text/plain": [
       "'4.1.1'"
      ]
     },
     "execution_count": 51,
     "metadata": {},
     "output_type": "execute_result"
    }
   ],
   "source": [
    "__version__"
   ]
  },
  {
   "cell_type": "code",
   "execution_count": null,
   "metadata": {},
   "outputs": [],
   "source": []
  }
 ],
 "metadata": {
  "kernelspec": {
   "display_name": "Python 3",
   "language": "python",
   "name": "python3"
  },
  "language_info": {
   "codemirror_mode": {
    "name": "ipython",
    "version": 3
   },
   "file_extension": ".py",
   "mimetype": "text/x-python",
   "name": "python",
   "nbconvert_exporter": "python",
   "pygments_lexer": "ipython3",
   "version": "3.6.8"
  }
 },
 "nbformat": 4,
 "nbformat_minor": 2
}
