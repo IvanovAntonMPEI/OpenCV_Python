{
 "cells": [
  {
   "cell_type": "code",
   "execution_count": 62,
   "metadata": {},
   "outputs": [],
   "source": [
    "import imutils\n",
    "import base64\n",
    "import cv2\n",
    "import sys\n",
    "import json\n",
    "\n",
    "    \n",
    "def videoStreamer(path, path_save, width=240, height=240, skip=None, name = '', format = '.bmp', number_image = 147, flag_image = False):\n",
    "    # Загружаем видео.\n",
    "    stream = cv2.VideoCapture(path)\n",
    "    #print(len(stream))\n",
    "\n",
    "    success, image = stream.read()\n",
    "    \n",
    "    #frames = int(stream.get(cv2.CAP_PROP_FRAME_COUNT))\n",
    "    #FPS = stream.get(cv2.CAP_PROP_FPS)\n",
    "    #if skip == None:\n",
    "    #    skip = int(40)\n",
    "    if flag_image:\n",
    "        print(stream.get(7))\n",
    "    else:\n",
    "        skip = skip if skip else int(stream.get(7) / number_image)\n",
    "\n",
    "        print(stream.get(7), skip)\n",
    "        counter = 0\n",
    "        counter_image = 0\n",
    "        while success:\n",
    "          # Пропускаем несколько кадров, и смотрим один из них.\n",
    "            #print(counter)\n",
    "          # Меняем размер изображения и отсылаем его в stdout в формате JSON\n",
    "            #frame = imutils.resize(frame, width=600, height=800)\n",
    "            success, image = stream.read()\n",
    "            if (counter + 1) % skip == 0 and success:\n",
    "                counter = 0\n",
    "                image = imutils.resize(image, width=width, height=height)\n",
    "                cv2.imwrite(path_save + name +  str(counter_image) + format, image)\n",
    "                #new_image = image.resize((width, height), Image.ANTIALIAS)\n",
    "                #new_image.save(path_save + str(counter)+ '.png', optimize = True, quality = 95)\n",
    "                counter_image += 1\n",
    "\n",
    "            counter += 1\n",
    "        print(counter_image)"
   ]
  },
  {
   "cell_type": "code",
   "execution_count": 63,
   "metadata": {},
   "outputs": [
    {
     "name": "stdout",
     "output_type": "stream",
     "text": [
      "147.0 1\n",
      "146\n"
     ]
    }
   ],
   "source": [
    "videoStreamer('/home/adminivanov/Рабочий стол/video/IMG_5430.mov', '/home/adminivanov/Рабочий стол/video/image')"
   ]
  },
  {
   "cell_type": "code",
   "execution_count": null,
   "metadata": {},
   "outputs": [],
   "source": []
  },
  {
   "cell_type": "code",
   "execution_count": null,
   "metadata": {},
   "outputs": [],
   "source": []
  },
  {
   "cell_type": "code",
   "execution_count": null,
   "metadata": {},
   "outputs": [],
   "source": []
  }
 ],
 "metadata": {
  "kernelspec": {
   "display_name": "Python 3",
   "language": "python",
   "name": "python3"
  },
  "language_info": {
   "codemirror_mode": {
    "name": "ipython",
    "version": 3
   },
   "file_extension": ".py",
   "mimetype": "text/x-python",
   "name": "python",
   "nbconvert_exporter": "python",
   "pygments_lexer": "ipython3",
   "version": "3.6.8"
  }
 },
 "nbformat": 4,
 "nbformat_minor": 2
}
