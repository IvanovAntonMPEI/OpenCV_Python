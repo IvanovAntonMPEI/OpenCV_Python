{
 "cells": [
  {
   "cell_type": "code",
   "execution_count": 1,
   "metadata": {
    "scrolled": true
   },
   "outputs": [
    {
     "name": "stdout",
     "output_type": "stream",
     "text": [
      "['imageq121.bmp', 'image84w.bmp', 'image8w.bmp', 'image90z.bmp', 'image45a.bmp', 'image52.bmp', 'image37w.bmp', 'image61.bmp', 'image53w.bmp', 'image102w.bmp', 'image49w.bmp', 'image36a.bmp', 'image78z.bmp', 'image8a.bmp', 'image112w.bmp', 'image85w.bmp', 'image85z.bmp', 'image34w.bmp', 'image54z.bmp', 'image34.bmp', 'image132w.bmp', 'image40.bmp', 'image5a.bmp', 'image11a.bmp', 'image91z.bmp', 'image61w.bmp', 'image17z.bmp', 'image77.bmp', 'image3a.bmp', 'image75.bmp', 'image59w.bmp', 'image41w.bmp', 'image11.bmp', 'image64z.bmp', 'image7z.bmp', 'image30.bmp', 'image73.bmp', 'image72.bmp', 'image130w.bmp', 'image119w.bmp', 'image48z.bmp', 'image129w.bmp', 'image131w.bmp', 'image38.bmp', 'image87w.bmp', 'image24a.bmp', 'image109w.bmp', 'image47w.bmp', 'image133w.bmp', 'image15z.bmp', 'image11w.bmp', 'image39.bmp', 'image37.bmp', 'image4a.bmp', 'image6a.bmp', 'image96w.bmp', 'image89.bmp', 'image115w.bmp', 'image88z.bmp', 'image25w.bmp', 'image24.bmp', 'image60z.bmp', 'image39w.bmp', 'image67z.bmp', 'image1.bmp', 'imageq13.bmp', 'image46z.bmp', 'image89w.bmp', 'image71w.bmp', 'image42w.bmp', 'image5w.bmp', 'image73z.bmp', 'image30a.bmp', 'image79.bmp', 'image108w.bmp', 'image63.bmp', 'image100w.bmp', 'image65w.bmp', 'image6w.bmp', 'image51.bmp', 'image36z.bmp', 'image124.bmp', 'image32z.bmp', 'image41z.bmp', 'image81w.bmp', 'image14w.bmp', 'image32.bmp', 'image58.bmp', 'image92z.bmp', 'image19.bmp', 'image104w.bmp', 'image22.bmp', 'image57.bmp', 'image120.bmp', 'image73w.bmp', 'image28.bmp', 'image45w.bmp', 'image0a.bmp', 'image121w.bmp', 'image135.bmp', 'image130.bmp', 'image92.bmp', 'image4w.bmp', 'image14z.bmp', 'image50w.bmp', 'image29z.bmp', 'image24z.bmp', 'image132.bmp', 'image9w.bmp', 'image93z.bmp', 'image7.bmp', 'image38w.bmp', 'image71.bmp', 'image129.bmp', 'image48w.bmp', 'image35.bmp', 'image43w.bmp', 'image36.bmp', 'image57z.bmp', 'image56z.bmp', 'image125.bmp', 'image2a.bmp', 'image26.bmp', 'image15w.bmp', 'image87.bmp', 'image37a.bmp', 'image114.bmp', 'image40w.bmp', 'image18a.bmp', 'image12.bmp', 'image27a.bmp', 'image78w.bmp', 'image44z.bmp', '1.bmp', 'image126.bmp', 'image139w.bmp', 'image14.bmp', 'image68.bmp', 'image55z.bmp', 'image84z.bmp', 'image22a.bmp', 'imageq110.bmp', 'image72z.bmp', 'image15a.bmp', 'image69.bmp', 'image20z.bmp', 'image80w.bmp', 'image41a.bmp', 'image137w.bmp', 'image46.bmp', 'image74w.bmp', 'image21w.bmp', 'image37z.bmp', 'image9a.bmp', 'image133.bmp', 'image23.bmp', 'image32a.bmp', 'image122w.bmp', 'image112.bmp', 'image5.bmp', 'image50.bmp', 'image84.bmp', 'image59z.bmp', 'imageq14.bmp', 'image96.bmp', 'image35a.bmp', 'image34z.bmp', 'image29.bmp', 'image49z.bmp', 'image87z.bmp', 'image0z.bmp', 'image110z.bmp', 'image86.bmp', 'image58z.bmp', 'image45z.bmp', 'image2w.bmp', 'image31z.bmp', 'image30z.bmp', 'image17.bmp', 'image6.bmp', 'image25.bmp', 'image4.bmp', 'image38z.bmp', 'image128w.bmp', 'image135w.bmp', 'image53.bmp', 'image116.bmp', 'image3w.bmp', 'image126w.bmp', 'image90.bmp', 'image18z.bmp', 'image138.bmp', 'image31a.bmp', 'image86w.bmp', 'image13a.bmp', 'image69z.bmp', 'image26z.bmp', 'image127.bmp', 'image143w.bmp', 'image92w.bmp', 'imagqe18.bmp', 'image76z.bmp', 'image33w.bmp', 'image115.bmp', 'image16w.bmp', 'image21.bmp', 'image77w.bmp', 'image97w.bmp', 'image44a.bmp', 'image95w.bmp', 'image55w.bmp', 'image31.bmp', 'image105w.bmp', 'image71z.bmp', 'image27.bmp', 'image121.bmp', 'image51w.bmp', 'image23w.bmp', 'image127w.bmp', 'image12a.bmp', 'image19a.bmp', 'image19z.bmp', 'image35w.bmp', 'image66.bmp', 'image1q12.bmp', 'image52w.bmp', 'image9.bmp', 'image145w.bmp', 'image90w.bmp', 'image12w.bmp', 'image30w.bmp', 'image15.bmp', 'image42a.bmp', 'image41.bmp', 'image13z.bmp', 'image122.bmp', 'image3z.bmp', 'image52z.bmp', 'image70z.bmp', 'image117w.bmp', 'image86z.bmp', 'image69w.bmp', 'image28a.bmp', 'image62w.bmp', 'image35z.bmp', 'image134w.bmp', 'image11z.bmp', 'image128.bmp', 'image83z.bmp', 'image10.bmp', 'image79z.bmp', 'image29a.bmp', 'image89z.bmp', 'image141w.bmp', 'image21a.bmp', 'image138w.bmp', 'image51z.bmp', 'image68w.bmp', 'image98w.bmp', 'image39a.bmp', 'image82w.bmp', 'image81z.bmp', 'image94w.bmp', 'image0.bmp', 'image53z.bmp', 'image64.bmp', 'image10a.bmp', 'image82.bmp', 'image3.bmp', 'image54w.bmp', 'image62.bmp', 'image23z.bmp', 'image10w.bmp', 'image113w.bmp', 'image62z.bmp', 'image27z.bmp', 'image43z.bmp', 'image117.bmp', 'image9z.bmp', 'image91.bmp', 'image49.bmp', 'image63z.bmp', 'image38a.bmp', 'image93w.bmp', 'image114w.bmp', 'image72w.bmp', 'imageq15.bmp', 'image106w.bmp', 'image17w.bmp', 'image83.bmp', 'image60w.bmp', 'image65z.bmp', 'image79w.bmp', 'image50z.bmp', 'image56w.bmp', 'image1z.bmp', 'image20a.bmp', 'image88.bmp', 'image7a.bmp', 'image10z.bmp', 'image5z.bmp', 'image123.bmp', 'image74z.bmp', 'image55.bmp', 'image111w.bmp', 'image66z.bmp', 'image120w.bmp', 'image77z.bmp', 'image94.bmp', 'image42z.bmp', 'image28w.bmp', 'image59.bmp', 'image2z.bmp', 'image31w.bmp', 'image1q9.bmp', 'image83w.bmp', 'image27w.bmp', 'image95.bmp', 'image107w.bmp', 'image21z.bmp', 'image20w.bmp', 'image80.bmp', 'image142w.bmp', 'imagqe17.bmp', 'image75w.bmp', 'image103w.bmp', 'image4z.bmp', 'image111.bmp', 'image16.bmp', 'image43.bmp', 'image118.bmp', 'image66w.bmp', 'image136.bmp', 'image22z.bmp', 'image16z.bmp', 'image44.bmp', 'image74.bmp', 'image16a.bmp', 'image26a.bmp', 'image33z.bmp', 'image6z.bmp', 'image65.bmp', 'image125w.bmp', 'image43a.bmp', 'image63w.bmp', 'image33a.bmp', 'image47z.bmp', 'image19w.bmp', 'image76w.bmp', 'image8.bmp', 'image110w.bmp', 'image40a.bmp', 'image8z.bmp', 'image110.bmp', 'image116w.bmp', 'image17a.bmp', 'image2.bmp', 'image1w.bmp', 'image80z.bmp', 'image85.bmp', 'image18.bmp', 'image75z.bmp', 'image140w.bmp', 'image22w.bmp', 'image70w.bmp', 'image14a.bmp', 'image47.bmp', 'image137.bmp', 'image24w.bmp', 'image0w.bmp', 'image13.bmp', 'image124w.bmp', 'image44w.bmp', 'image101w.bmp', 'image20.bmp', 'image46w.bmp', 'image28z.bmp', 'image25a.bmp', 'image45.bmp', 'image67.bmp', 'image18w.bmp', 'image36w.bmp', 'image113.bmp', 'image81.bmp', 'image1a.bmp', 'image54.bmp', 'image34a.bmp', 'image32w.bmp', 'image42.bmp', 'image93.bmp', 'image123w.bmp', 'image67w.bmp', 'image13w.bmp', 'image26w.bmp', 'image33.bmp', 'image131.bmp', 'image136w.bmp', 'image134.bmp', 'image29w.bmp', 'image119.bmp', 'image64w.bmp', 'image70.bmp', 'image12z.bmp', 'image23a.bmp', 'image68z.bmp', 'image40z.bmp', 'image25z.bmp', 'image58w.bmp', 'image91w.bmp', 'image88w.bmp', 'image144w.bmp', 'image78.bmp', 'image118w.bmp', 'image99w.bmp', 'image82z.bmp', 'imageq16.bmp', 'image56.bmp', 'image60.bmp', 'image7w.bmp', 'image76.bmp', 'image61z.bmp', 'image57w.bmp', 'image39z.bmp', 'image48.bmp']\n"
     ]
    }
   ],
   "source": [
    "import cv2\n",
    "import re\n",
    "count = 0\n",
    "black_name=''\n",
    "\n",
    "from os import listdir\n",
    "from os.path import isfile, join\n",
    "\n",
    "files= [f for f in listdir(\"/home/adminivanov/Рабочий стол/video/5420\") if isfile(join(\"/home/adminivanov/Рабочий стол/video/5420\", f))]\n",
    "\n",
    "print (files)\n",
    "\n"
   ]
  },
  {
   "cell_type": "code",
   "execution_count": 2,
   "metadata": {},
   "outputs": [],
   "source": [
    "#  count = count + 1\n",
    "#      if i != black_name:\n",
    "# image = cv2.imread('image0.bmp')\n",
    "# (h, w) = image.shape[:2]\n",
    "# center = (w / 2, h / 2)\n",
    "# M = cv2.getRotationMatrix2D(center,-90 , 1.0)\n",
    "# rotated = cv2.warpAffine(image, M, (w, h))   \n",
    "for i in files:\n",
    "    if i != 'AlgoritmRabochii.ipynb' and i != 'Untitled.ipynb':\n",
    "        count = count + 1\n",
    "#      if i != black_name:\n",
    "        image = cv2.imread(i)\n",
    "        (h, w) = image.shape[:2]\n",
    "        center = (w / 2, h / 2)\n",
    "        M = cv2.getRotationMatrix2D(center,-90 , 1.0)\n",
    "        rotated = cv2.warpAffine(image, M, (w, h))   \n",
    "        cv2.imwrite(str (count) + \".bmp\", rotated)"
   ]
  },
  {
   "cell_type": "code",
   "execution_count": null,
   "metadata": {},
   "outputs": [],
   "source": [
    "# def rotate_image(image, noise_image, pix, list_point, path_save, phi):\n",
    "#     # поворот картинки на заданный градус\n",
    "    \n",
    "#     new_image = noise_image.copy()\n",
    "#     draw = ImageDraw.Draw(new_image)\n",
    "    \n",
    "#     for i in list_point:\n",
    "#         x, y = simple_rotate_value(i[0] - new_image.size[0]/2, i[1] - new_image.size[1]/2, phi)\n",
    "#         draw.point((size/2 + x, size/2 + y), pix[i[0], i[1]])\n",
    "        \n",
    "#     new_image.save(path_save)"
   ]
  },
  {
   "cell_type": "code",
   "execution_count": null,
   "metadata": {},
   "outputs": [],
   "source": [
    "# error_phi = 5\n",
    "# number_image = 424\n",
    "# path_save = '/home/adminivanov/Рабочий стол/video/Image'\n",
    "# format_file = '.bmp'\n",
    "# # создание (error_phi * 2 / step) картинок с поворотом\n",
    "# list_phi = np.linspace(0, number_image)\n",
    "\n",
    "\n",
    "# for counter, i in enumerate(list_phi):\n",
    "#     path = path_save + str(counter) + format_file\n",
    "#     rotate_image(image, list_image, path, i)"
   ]
  }
 ],
 "metadata": {
  "kernelspec": {
   "display_name": "Python 3",
   "language": "python",
   "name": "python3"
  },
  "language_info": {
   "codemirror_mode": {
    "name": "ipython",
    "version": 3
   },
   "file_extension": ".py",
   "mimetype": "text/x-python",
   "name": "python",
   "nbconvert_exporter": "python",
   "pygments_lexer": "ipython3",
   "version": "3.6.8"
  }
 },
 "nbformat": 4,
 "nbformat_minor": 2
}
